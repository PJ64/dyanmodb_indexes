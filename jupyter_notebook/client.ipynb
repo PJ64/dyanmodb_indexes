{
 "cells": [
  {
   "cell_type": "markdown",
   "metadata": {},
   "source": [
    "## Covering data patterns with DynamoDB indexes"
   ]
  },
  {
   "cell_type": "markdown",
   "metadata": {},
   "source": [
    "This example deploys an Amazon API Gateway, multiple AWS Lambda functions and an Amazon DynamoDB table with two indexes. The example demonstrates using DynamoDB indexes to support the differant query patterns of a microservice. \n",
    "\n",
    "The Amazon DynamoDB table is partitioned on the accountid attribute and it also includes a sort key on the vendorid attribute, together they form the primary key. \n",
    "\n",
    "The sort key on the base table allows records to be scanned using the vendorid.\n",
    "\n",
    "The local secondary index is partitioned on the accountid attribute, the same as the base table, which is a requirement for this type of index. The orderdate attribute has been used as the sort key. This allows us to find orders using accountid and a datetime range. For example we can query for customer orders on a particular day.\n",
    "\n",
    "The global seondary index is partitioned on vendorid and orderdate is used as the sort key. The global secondary index partition key does not need to be the same as the base table. This index allows orders to be queried using vendorid and a datetime range. For example we can find the most recent vendor orders."
   ]
  },
  {
   "cell_type": "markdown",
   "metadata": {},
   "source": [
    "![architecture](../images/architecture_3.png \"Architecture\")"
   ]
  },
  {
   "cell_type": "markdown",
   "metadata": {},
   "source": [
    "**Base Table**\n",
    "\n",
    "Partition key = accountid\n",
    "\n",
    "Sort key = vendorid\n",
    "\n",
    "3. The third script will get items using a query operation against the local secondary index using an accountid and orderdate range.\n",
    "\n",
    "**Local Secondary Index**\n",
    "\n",
    "Partition key = accountid\n",
    "\n",
    "Sort key = orderdate\n",
    "\n",
    "4. The fourth script will get items using a query operation against the global secondary index using a vendorid and orderdate range.\n",
    "\n",
    "**Global Secondary Index**\n",
    "\n",
    "Partition key = vendorid\n",
    "\n",
    "Sort key = orderdate\n",
    "\n",
    "**Jupyter Notebook Scripts**\n",
    "\n",
    "1. The first script generates new orders and them the API Gateway. The gateway invokes a Lambda function which writes the items to the DynamoDB table.\n",
    "\n",
    "2. The second script is the json formatter used to render output\n",
    "\n",
    "3. The third script will invoke a function that uses a scan operation against the sort key of the base table, this will return items with matching vendorid\n",
    "\n",
    "4. The fourth script invokes a function that queries a global secondary index, which is partitioned by accountid and has a sort key on orderdate. The query filters orders by accountid and a datetime range.\n",
    "\n",
    "5. The final script invokes a Lambda function that queries a global secondary index, which is partitioned by vendorid and has a sort key on orderdate. The query filters orders by vendorid and a datetime range."
   ]
  },
  {
   "cell_type": "markdown",
   "metadata": {},
   "source": [
    "**Note:** Make sure you set **gwid** to your gateway id using - *gwid = '...'*\n",
    "\n",
    "**Post order**"
   ]
  },
  {
   "cell_type": "code",
   "execution_count": null,
   "metadata": {},
   "outputs": [],
   "source": [
    "import json, boto3, requests, datetime\n",
    "\n",
    "#Set gateway id\n",
    "gwid = '...'\n",
    "\n",
    "#Set your AWS region, e.g. ap-southeast-2\n",
    "region = '...' \n",
    "    \n",
    "url = (f'https://{gwid}.execute-api.{region}.amazonaws.com/prod/order')\n",
    "    \n",
    "#Set the date from variable \n",
    "date_from = datetime.datetime.now()\n",
    "\n",
    "for y in range(5):\n",
    "    for i in range(5):\n",
    "        x = datetime.datetime.now()\n",
    "        accountid = 'p' + str(i)\n",
    "        vendorid = 'v' + str(y)\n",
    "        orderdate = str(x)\n",
    "        coffeetype = 'Short Black'\n",
    "        coffeesize = 'Small'\n",
    "        unitprice = str(4.50 * (i + 1))\n",
    "        quantity = str((i + 1))\n",
    "\n",
    "        response = requests.post(url,json={'order':{\n",
    "                    'accountid': accountid,\n",
    "                    'vendorid': vendorid,\n",
    "                    'orderdate':orderdate,\n",
    "                    'details':{\n",
    "                        'coffeetype': coffeetype,\n",
    "                        'coffeesize': coffeesize,\n",
    "                        'unitprice': unitprice,\n",
    "                        'quantity': quantity\n",
    "                    },\n",
    "                    'sugar':1\n",
    "                }\n",
    "            })\n",
    "        print('acccountid:' + accountid + ', orderdate:' + str(x))\n",
    "        \n",
    "#Set the to from variable \n",
    "date_to = datetime.datetime.now()"
   ]
  },
  {
   "cell_type": "markdown",
   "metadata": {},
   "source": [
    "### json formatter\n",
    "The following script create a class display nicely formatted json data"
   ]
  },
  {
   "cell_type": "code",
   "execution_count": null,
   "metadata": {},
   "outputs": [],
   "source": [
    "import json, uuid\n",
    "from IPython.display import display_javascript, display_html, display\n",
    "\n",
    "class RenderJSON(object):\n",
    "    def __init__(self, json_data):\n",
    "        if isinstance(json_data, dict) or isinstance(json_data, list):\n",
    "            self.json_str = json.dumps(json_data)\n",
    "        else:\n",
    "            self.json_str = json_data\n",
    "        self.uuid = str(uuid.uuid4())\n",
    "\n",
    "    def _ipython_display_(self):\n",
    "        display_html('<div id=\"{}\" style=\"height: 600px; width:100%;font: 12px/18px monospace !important;\"></div>'.format(self.uuid), raw=True)\n",
    "        display_javascript(\"\"\"\n",
    "        require([\"https://rawgit.com/caldwell/renderjson/master/renderjson.js\"], function() {\n",
    "            renderjson.set_show_to_level(2);\n",
    "            document.getElementById('%s').appendChild(renderjson(%s))\n",
    "        });\n",
    "      \"\"\" % (self.uuid, self.json_str), raw=True)"
   ]
  },
  {
   "cell_type": "markdown",
   "metadata": {},
   "source": [
    "### Scan for items by the VendorID\n",
    "\n",
    "This operation will use the base table and scan the vendorid sort key."
   ]
  },
  {
   "cell_type": "code",
   "execution_count": null,
   "metadata": {},
   "outputs": [],
   "source": [
    "#Get orders by VendorID\n",
    "url = (f'https://{gwid}.execute-api.{region}.amazonaws.com/prod/scan')\n",
    "\n",
    "response_get = requests.get(url, params={'vendorid':'v1'})\n",
    "\n",
    "RenderJSON(response_get.json()[\"Items\"])"
   ]
  },
  {
   "cell_type": "markdown",
   "metadata": {},
   "source": [
    "### Query for orders by accountid and order date\n",
    "This operation will invoke a function to scan the local secondary index.\n",
    "\n",
    "Lambda function: dynamodb_indexes_query_accountid_orderdate"
   ]
  },
  {
   "cell_type": "code",
   "execution_count": null,
   "metadata": {},
   "outputs": [],
   "source": [
    "#Get orders by accountid and orderdate using a local secondary index\n",
    "\n",
    "url = (f'https://{gwid}.execute-api.{region}.amazonaws.com/prod/query/account')\n",
    "\n",
    "response_get = requests.get(url, params={'accountid':'p0','from':date_from,'to':date_to})\n",
    "\n",
    "RenderJSON(response_get.json())"
   ]
  },
  {
   "cell_type": "markdown",
   "metadata": {},
   "source": [
    "### Query for orders by vendorid and order date\n",
    "This operation will use the global secondary index\n",
    "\n",
    "Lambda function: dynamodb_indexes_query_vendorid_orderdate"
   ]
  },
  {
   "cell_type": "code",
   "execution_count": null,
   "metadata": {},
   "outputs": [],
   "source": [
    "#Get orders by vendorid and orderdate using a global secondary index\n",
    "\n",
    "url = (f'https://{gwid}.execute-api.{region}.amazonaws.com/prod/query/vendor')\n",
    "\n",
    "response_get = requests.get(url, params={'vendorid':'v0','from':date_from,'to':date_to})\n",
    "\n",
    "RenderJSON(response_get.json())"
   ]
  },
  {
   "cell_type": "code",
   "execution_count": null,
   "metadata": {},
   "outputs": [],
   "source": []
  }
 ],
 "metadata": {
  "kernelspec": {
   "display_name": "Python 3 (ipykernel)",
   "language": "python",
   "name": "python3"
  },
  "language_info": {
   "codemirror_mode": {
    "name": "ipython",
    "version": 3
   },
   "file_extension": ".py",
   "mimetype": "text/x-python",
   "name": "python",
   "nbconvert_exporter": "python",
   "pygments_lexer": "ipython3",
   "version": "3.8.12"
  }
 },
 "nbformat": 4,
 "nbformat_minor": 4
}
